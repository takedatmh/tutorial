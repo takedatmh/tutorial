{
  "nbformat": 4,
  "nbformat_minor": 0,
  "metadata": {
    "colab": {
      "provenance": [],
      "gpuType": "T4",
      "authorship_tag": "ABX9TyNJFH4IONz5G8bMsciQJvkg",
      "include_colab_link": true
    },
    "kernelspec": {
      "name": "python3",
      "display_name": "Python 3"
    },
    "language_info": {
      "name": "python"
    },
    "accelerator": "GPU"
  },
  "cells": [
    {
      "cell_type": "markdown",
      "metadata": {
        "id": "view-in-github",
        "colab_type": "text"
      },
      "source": [
        "<a href=\"https://colab.research.google.com/github/takedatmh/tutorial/blob/master/LLM_Security_Entropy.ipynb\" target=\"_parent\"><img src=\"https://colab.research.google.com/assets/colab-badge.svg\" alt=\"Open In Colab\"/></a>"
      ]
    },
    {
      "cell_type": "code",
      "metadata": {
        "id": "aeafb697"
      },
      "source": [
        "import math\n",
        "from collections import Counter\n",
        "\n",
        "def tokenize(text):\n",
        "    \"\"\"\n",
        "    入力テキストをスペースで区切ってトークン化するシンプルな関数。\n",
        "    実際のアプリケーションでは、より高度なトークナイザーを使用するべきです。\n",
        "    \"\"\"\n",
        "    return text.split()\n",
        "\n",
        "def calculate_entropy(probabilities):\n",
        "    \"\"\"\n",
        "    確率分布のエントロピーを計算する関数。\n",
        "    ここでは、モデルの出力確率ではなく、トークンの出現頻度に基づいたエントロピーを計算します。\n",
        "    もしモデルの出力確率を使用したい場合は、probabilitiesの形式に合わせて修正が必要です。\n",
        "    \"\"\"\n",
        "    # probabilitiesが単なるリストや配列の場合の処理例\n",
        "    # カウントベースのエントロピー計算\n",
        "    counts = Counter(probabilities)\n",
        "    total = sum(counts.values())\n",
        "    entropy = 0\n",
        "    for count in counts.values():\n",
        "        probability = count / total\n",
        "        if probability > 0:\n",
        "            entropy -= probability * math.log2(probability)\n",
        "    return entropy\n",
        "\n",
        "# 既存の detect_anomaly 関数 (修正なし)\n",
        "def detect_anomaly(input_text, model):\n",
        "    # 正常な入力のエントロピー分布\n",
        "    normal_entropy_range = (2.5, 4.0)  # 経験的に決定\n",
        "\n",
        "    # 入力のエントロピー計算\n",
        "    tokens = tokenize(input_text)\n",
        "    # ここでmodel.predict_proba(tokens)を使う部分がありますが、\n",
        "    # calculate_entropyの実装によっては、modelの出力形式に合わせた処理が必要です。\n",
        "    # 簡単な例として、ここではtokenizeした結果をそのままcalculate_entropyに渡します。\n",
        "    # 本来は model.predict_proba(tokens) の結果を calculate_entropy に渡す想定です。\n",
        "    probabilities = tokens # 仮置き：実際はmodel.predict_proba(tokens)の結果\n",
        "    entropy = calculate_entropy(probabilities)\n",
        "\n",
        "    # 異常検出\n",
        "    if entropy < normal_entropy_range[0]:\n",
        "        # 低エントロピー：繰り返しパターンや注入攻撃の可能性\n",
        "        return \"Potential injection attack\"\n",
        "    elif entropy > normal_entropy_range[1]:\n",
        "        # 高エントロピー：ランダムな文字列や暗号化された攻撃\n",
        "        return \"Potential encoded attack\"\n",
        "\n",
        "    return \"Normal input\""
      ],
      "execution_count": 6,
      "outputs": []
    },
    {
      "cell_type": "code",
      "source": [
        "detect_anomaly(input_text=result[0]['generated_text'],model=generator)"
      ],
      "metadata": {
        "colab": {
          "base_uri": "https://localhost:8080/",
          "height": 35
        },
        "id": "ML2J27MAANnT",
        "outputId": "fb1c80fe-0c8b-4fd7-d469-8f30a21bd5f0"
      },
      "execution_count": 7,
      "outputs": [
        {
          "output_type": "execute_result",
          "data": {
            "text/plain": [
              "'Potential encoded attack'"
            ],
            "application/vnd.google.colaboratory.intrinsic+json": {
              "type": "string"
            }
          },
          "metadata": {},
          "execution_count": 7
        }
      ]
    }
  ]
}